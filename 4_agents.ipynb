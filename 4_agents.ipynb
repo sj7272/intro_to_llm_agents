{
 "cells": [
  {
   "cell_type": "code",
   "execution_count": 1,
   "metadata": {},
   "outputs": [],
   "source": [
    "import os\n",
    "import yaml\n",
    "\n",
    "config = yaml.safe_load(open(\"myconfig.yml\"))\n",
    "\n",
    "os.environ[\"OPENAI_API_KEY\"] = config[\"OPENAI_API_KEY\"]\n",
    "os.environ[\"TAVILY_API_KEY\"] = config[\"TAVILY_API_KEY\"]\n",
    "os.environ[\"LANGCHAIN_API_KEY\"] = config[\"LANGCHAIN_API_KEY\"]\n",
    "os.environ[\"LANGCHAIN_HUB_API_KEY\"] = config[\"LANGCHAIN_API_KEY\"]\n",
    "os.environ[\"LANGCHAIN_TRACING_V2\"] = str(config[\"LANGCHAIN_TRACING_V2\"]).lower()\n",
    "os.environ[\"LANGCHAIN_ENDPOINT\"] = config[\"LANGCHAIN_ENDPOINT\"]\n",
    "os.environ[\"LANGCHAIN_HUB_API_URL\"] = config[\"LANGCHAIN_HUB_API_URL\"]\n",
    "os.environ[\"LANGCHAIN_WANDB_TRACING\"] = str(config[\"LANGCHAIN_WANDB_TRACING\"]).lower()\n",
    "os.environ[\"WANDB_PROJECT\"] = config[\"WANDB_PROJECT\"]"
   ]
  },
  {
   "cell_type": "markdown",
   "metadata": {},
   "source": [
    "# Tools"
   ]
  },
  {
   "cell_type": "code",
   "execution_count": 2,
   "metadata": {},
   "outputs": [],
   "source": [
    "from langchain.utilities.tavily_search import TavilySearchAPIWrapper\n",
    "from langchain.tools.tavily_search import TavilySearchResults\n",
    "from langchain.tools import tool"
   ]
  },
  {
   "cell_type": "code",
   "execution_count": 3,
   "metadata": {},
   "outputs": [],
   "source": [
    "search = TavilySearchAPIWrapper()\n",
    "tavily_tool = TavilySearchResults(api_wrapper=search)"
   ]
  },
  {
   "cell_type": "code",
   "execution_count": 4,
   "metadata": {},
   "outputs": [],
   "source": [
    "@tool\n",
    "def calculate_length_tool(a: str) -> int:\n",
    "    \"\"\"The function calculates the length of the input string.\"\"\"\n",
    "    return len(a)\n",
    "\n",
    "@tool\n",
    "def calculate_uppercase_tool(a: str) -> int:\n",
    "    \"\"\"The function calculates the number of uppercase characters in the input string.\"\"\"\n",
    "    return sum(1 for c in a if c.isupper())"
   ]
  },
  {
   "cell_type": "markdown",
   "metadata": {},
   "source": [
    "# Memory"
   ]
  },
  {
   "cell_type": "code",
   "execution_count": 5,
   "metadata": {},
   "outputs": [],
   "source": [
    "from langchain.text_splitter import RecursiveCharacterTextSplitter\n",
    "from langchain_community.document_loaders import WebBaseLoader\n",
    "from langchain_community.vectorstores import FAISS\n",
    "from langchain_openai import OpenAIEmbeddings\n",
    "from langchain.tools.retriever import create_retriever_tool"
   ]
  },
  {
   "cell_type": "markdown",
   "metadata": {},
   "source": [
    "### Long-term memory"
   ]
  },
  {
   "cell_type": "code",
   "execution_count": 6,
   "metadata": {},
   "outputs": [],
   "source": [
    "loader = WebBaseLoader(\"https://neurons-lab.com/\")\n",
    "docs = loader.load()\n",
    "documents = RecursiveCharacterTextSplitter(\n",
    "    chunk_size=1000, chunk_overlap=200\n",
    ").split_documents(docs)\n",
    "vector = FAISS.from_documents(documents, OpenAIEmbeddings())\n",
    "retriever = vector.as_retriever()\n",
    "\n",
    "retriever_tool = create_retriever_tool(\n",
    "    retriever,\n",
    "    \"neurons_lab_search\",\n",
    "    \"Search for information about Neurons Lab. For any questions about Neurons Lab, you must use this tool!\",\n",
    ")"
   ]
  },
  {
   "cell_type": "markdown",
   "metadata": {},
   "source": [
    "### Short-term memory"
   ]
  },
  {
   "cell_type": "code",
   "execution_count": 7,
   "metadata": {},
   "outputs": [],
   "source": [
    "from langchain_community.chat_message_histories import ChatMessageHistory\n",
    "from langchain_core.runnables.history import RunnableWithMessageHistory"
   ]
  },
  {
   "cell_type": "code",
   "execution_count": 8,
   "metadata": {},
   "outputs": [],
   "source": [
    "message_history = ChatMessageHistory()"
   ]
  },
  {
   "cell_type": "markdown",
   "metadata": {},
   "source": [
    "### Sensory memory\n",
    "\n",
    "https://smith.langchain.com/hub/hwchase17/openai-functions-agent"
   ]
  },
  {
   "cell_type": "code",
   "execution_count": 9,
   "metadata": {},
   "outputs": [],
   "source": [
    "from langchain.prompts import PromptTemplate\n",
    "from langchain.chat_models import ChatOpenAI\n",
    "from langchain import hub"
   ]
  },
  {
   "cell_type": "code",
   "execution_count": 10,
   "metadata": {},
   "outputs": [],
   "source": [
    "prompt = hub.pull(\"hwchase17/openai-functions-agent\")\n",
    "# prompt = hub.pull(\"wfh/langsmith-agent-prompt:5d466cbc\")"
   ]
  },
  {
   "cell_type": "code",
   "execution_count": 11,
   "metadata": {},
   "outputs": [
    {
     "data": {
      "text/plain": [
       "ChatPromptTemplate(input_variables=['agent_scratchpad', 'input'], input_types={'chat_history': typing.List[typing.Union[langchain_core.messages.ai.AIMessage, langchain_core.messages.human.HumanMessage, langchain_core.messages.chat.ChatMessage, langchain_core.messages.system.SystemMessage, langchain_core.messages.function.FunctionMessage, langchain_core.messages.tool.ToolMessage]], 'agent_scratchpad': typing.List[typing.Union[langchain_core.messages.ai.AIMessage, langchain_core.messages.human.HumanMessage, langchain_core.messages.chat.ChatMessage, langchain_core.messages.system.SystemMessage, langchain_core.messages.function.FunctionMessage, langchain_core.messages.tool.ToolMessage]]}, metadata={'lc_hub_owner': 'hwchase17', 'lc_hub_repo': 'openai-functions-agent', 'lc_hub_commit_hash': 'a1655024b06afbd95d17449f21316291e0726f13dcfaf990cc0d18087ad689a5'}, messages=[SystemMessagePromptTemplate(prompt=PromptTemplate(input_variables=[], template='You are a helpful assistant')), MessagesPlaceholder(variable_name='chat_history', optional=True), HumanMessagePromptTemplate(prompt=PromptTemplate(input_variables=['input'], template='{input}')), MessagesPlaceholder(variable_name='agent_scratchpad')])"
      ]
     },
     "execution_count": 11,
     "metadata": {},
     "output_type": "execute_result"
    }
   ],
   "source": [
    "prompt"
   ]
  },
  {
   "cell_type": "markdown",
   "metadata": {},
   "source": [
    "# Agent"
   ]
  },
  {
   "cell_type": "markdown",
   "metadata": {},
   "source": [
    "### All tools together"
   ]
  },
  {
   "cell_type": "code",
   "execution_count": 12,
   "metadata": {},
   "outputs": [
    {
     "name": "stdout",
     "output_type": "stream",
     "text": [
      "neurons_lab_search Search for information about Neurons Lab. For any questions about Neurons Lab, you must use this tool!\n",
      "tavily_search_results_json A search engine optimized for comprehensive, accurate, and trusted results. Useful for when you need to answer questions about current events. Input should be a search query.\n",
      "calculate_length_tool calculate_length_tool(a: str) -> int - The function calculates the length of the input string.\n",
      "calculate_uppercase_tool calculate_uppercase_tool(a: str) -> int - The function calculates the number of uppercase characters in the input string.\n"
     ]
    }
   ],
   "source": [
    "tools = [retriever_tool, tavily_tool, calculate_length_tool, calculate_uppercase_tool]\n",
    "for t in tools:\n",
    "    print(t.name, t.description)"
   ]
  },
  {
   "cell_type": "markdown",
   "metadata": {},
   "source": [
    "### Defining an agent with tools and memory"
   ]
  },
  {
   "cell_type": "code",
   "execution_count": 13,
   "metadata": {},
   "outputs": [],
   "source": [
    "from langchain_openai import ChatOpenAI\n",
    "from langchain.agents import create_openai_functions_agent\n",
    "from langchain.agents import AgentExecutor"
   ]
  },
  {
   "cell_type": "code",
   "execution_count": 14,
   "metadata": {},
   "outputs": [],
   "source": [
    "llm = ChatOpenAI(model=\"gpt-3.5-turbo\", temperature=0)\n",
    "agent = create_openai_functions_agent(llm, tools, prompt)\n",
    "agent_executor = AgentExecutor(agent=agent, tools=tools, verbose=True)\n",
    "agent_with_chat_history = RunnableWithMessageHistory(\n",
    "    agent_executor,\n",
    "    lambda session_id: message_history,\n",
    "    input_messages_key=\"input\",\n",
    "    history_messages_key=\"chat_history\",\n",
    ")"
   ]
  },
  {
   "cell_type": "markdown",
   "metadata": {},
   "source": [
    "### Running an agent"
   ]
  },
  {
   "cell_type": "code",
   "execution_count": 15,
   "metadata": {},
   "outputs": [
    {
     "name": "stdout",
     "output_type": "stream",
     "text": [
      "\n",
      "\n",
      "\u001b[1m> Entering new AgentExecutor chain...\u001b[0m\n",
      "\u001b[32;1m\u001b[1;3mHello! How can I assist you today?\u001b[0m\n",
      "\n",
      "\u001b[1m> Finished chain.\u001b[0m\n"
     ]
    },
    {
     "data": {
      "text/plain": [
       "{'input': 'Hello!',\n",
       " 'chat_history': [],\n",
       " 'output': 'Hello! How can I assist you today?'}"
      ]
     },
     "execution_count": 15,
     "metadata": {},
     "output_type": "execute_result"
    }
   ],
   "source": [
    "agent_with_chat_history.invoke(\n",
    "    {\n",
    "        \"input\": \"Hello!\"\n",
    "    },\n",
    "    config={\"configurable\": {\"session_id\": \"<foo>\"}},\n",
    ")"
   ]
  },
  {
   "cell_type": "code",
   "execution_count": 16,
   "metadata": {},
   "outputs": [
    {
     "name": "stdout",
     "output_type": "stream",
     "text": [
      "\n",
      "\n",
      "\u001b[1m> Entering new AgentExecutor chain...\u001b[0m\n",
      "\u001b[32;1m\u001b[1;3m\n",
      "Invoking: `neurons_lab_search` with `{'query': 'Neurons Lab services description'}`\n",
      "\n",
      "\n",
      "\u001b[0m\u001b[36;1m\u001b[1;3mNeurons Lab | Home\n",
      "\n",
      "\n",
      "\n",
      "\n",
      "\n",
      "\n",
      "\n",
      "\n",
      "\n",
      "\n",
      "\n",
      "\n",
      "\n",
      "\n",
      "\n",
      "\n",
      "\n",
      "\n",
      "\n",
      "\n",
      "\n",
      "\n",
      "\n",
      "\n",
      "\n",
      "\n",
      " \n",
      "\n",
      "\n",
      "\n",
      "Your vision\n",
      "Our expertise\n",
      "Secret sauce*\n",
      "\n",
      "\n",
      "                            Recipe                            \n",
      "\n",
      "\n",
      "\n",
      "Partner with us\n",
      "\n",
      "\n",
      "                                for INNOVATION                                                    \n",
      "We are AI solution development experts for fast-growing companies seeking innovation through collaboration.\n",
      "\n",
      "\n",
      "\n",
      "\n",
      "\n",
      "\n",
      "\n",
      "\n",
      "\n",
      "\n",
      "\n",
      "\n",
      "\n",
      "\n",
      "\n",
      "\n",
      "\n",
      "\n",
      "\n",
      "\n",
      "\n",
      "\n",
      "HealthTech\n",
      "CleanTech\n",
      "RetailTech\n",
      "\n",
      "\n",
      "\n",
      "\n",
      "\n",
      "AWS Certified Advanced partner\n",
      "and Generative AI competency holder\n",
      "\n",
      "\n",
      "\n",
      "\n",
      "\n",
      "\n",
      "AI2 = Accelerators2 + \n",
      "Handbook2\n",
      "\n",
      "\n",
      "AI feasibility analysis\n",
      "Discover\n",
      "\n",
      "\n",
      "AI solution engineering\n",
      "Launch\n",
      "\n",
      "\n",
      "AI operations management\n",
      "Scale\n",
      "\n",
      "\n",
      "\n",
      "\n",
      "\n",
      "Success =(Execution x Talent) / \n",
      "(Uncertainty x Time)\n",
      "\n",
      "All  stories\n",
      "\n",
      "                                    1 — 6                                    \n",
      "\n",
      "\n",
      "\n",
      "\n",
      "\n",
      "\n",
      "\n",
      "\n",
      "\n",
      "\n",
      "\n",
      "Creative Practice Solutions : Developing an AI-Driven Medical Transcription & Billing System                                                \n",
      "\n",
      "\n",
      "HealthTech\n",
      "\n",
      "\n",
      "\n",
      "Explore story\n",
      "\n",
      "Privacy Notice\n",
      " Cookie Notice\n",
      "\n",
      "\n",
      "\n",
      "\n",
      "[email protected]\n",
      " +44 330 027 2146\n",
      "\n",
      "\n",
      "\n",
      "International House, 64 Nile Str,\n",
      "London, N1 7SR, United Kingdom\n",
      "\n",
      "\n",
      "\n",
      "\n",
      "\n",
      "\n",
      "\n",
      "\n",
      "\n",
      "\n",
      "\n",
      "© 2024 Neurons Lab LTD. Registered in England and Wales, \n",
      "Company Number 12265479\n",
      "Createdby twid\n",
      "\n",
      "Release & scale faster\n",
      "We make implementation ultra-fast by deploying and customizing pre-developed solutions in NLP, computer vision, time series, and Recommender systems.\n",
      "We also share our proprietary handbooks of best practices to help your team hit the ground running. Collaboration is the only way to effectively implement innovation.\n",
      "\n",
      "\n",
      "\n",
      "\n",
      "\n",
      "\n",
      "\n",
      "\n",
      "\n",
      "\n",
      "\n",
      "\n",
      "\n",
      "\n",
      "\n",
      "\n",
      "\n",
      "\n",
      "\n",
      "\n",
      "\n",
      "\n",
      "\n",
      "\n",
      "\n",
      "\n",
      "\n",
      "\n",
      "\n",
      "\n",
      "\n",
      "\n",
      "\n",
      "\n",
      "\n",
      "\n",
      "\n",
      "\n",
      "\n",
      "\n",
      "\n",
      "\n",
      "\n",
      "\n",
      "\n",
      "\n",
      "\n",
      "\n",
      "\n",
      "\n",
      "\n",
      "\n",
      "\n",
      "\n",
      "\n",
      "\n",
      "\n",
      "\n",
      "\n",
      "\n",
      "\n",
      "\n",
      "\n",
      "\n",
      " \n",
      "\n",
      "\n",
      "\n",
      "\n",
      "Work with experts\n",
      "Our expertise lies at the intersection of AI, advanced science, and business. Using a Talent Pool of over 500 highly skilled individuals, we quickly assemble teams of PhD-level applied scientists, recognized DS/ML/AI Engineers, and MLOps who specialize in developing solutions for your industry.\n",
      "\n",
      "Release & scale faster\n",
      "We make implementation ultra-fast by deploying and customizing pre-developed solutions in NLP, computer vision, time series, and Recommender systems.\n",
      "We also share our proprietary handbooks of best practices to help your team hit the ground running. Collaboration is the only way to effectively implement innovation.\n",
      "\n",
      "\n",
      "Work with experts\n",
      "Our expertise lies at the intersection of AI, advanced science, and business. Using a Talent Pool of over 500 highly skilled individuals, we quickly assemble teams of PhD-level applied scientists, recognized DS/ML/AI Engineers, and MLOps who specialize in developing solutions for your industry.\n",
      "\n",
      "\n",
      "Grow your business & attract clients \n",
      "Do you also seek development opportunities or funding? Thanks to our advanced-tier AWS partnership and access to a vast VC network, we can aid your company in obtaining grants and other assistance.\u001b[0m\u001b[32;1m\u001b[1;3m\n",
      "Invoking: `calculate_length_tool` with `{'a': 'Neurons Lab is an AI solution development experts for fast-growing companies seeking innovation through collaboration. They make implementation ultra-fast by deploying and customizing pre-developed solutions in NLP, computer vision, time series, and Recommender systems. Their expertise lies at the intersection of AI, advanced science, and business, using a Talent Pool of over 500 highly skilled individuals to develop solutions for various industries. Neurons Lab also helps companies grow their business and attract clients by providing development opportunities, funding assistance, and access to a vast VC network.'}`\n",
      "\n",
      "\n",
      "\u001b[0m\u001b[38;5;200m\u001b[1;3m620\u001b[0m\u001b[32;1m\u001b[1;3mThe description of Neurons Lab services is 620 characters long. If you need more information or assistance, feel free to ask!\u001b[0m\n",
      "\n",
      "\u001b[1m> Finished chain.\u001b[0m\n"
     ]
    },
    {
     "data": {
      "text/plain": [
       "{'input': 'Find the description of Neurons Lab services and calculate the length of this description',\n",
       " 'chat_history': [HumanMessage(content='Hello!'),\n",
       "  AIMessage(content='Hello! How can I assist you today?')],\n",
       " 'output': 'The description of Neurons Lab services is 620 characters long. If you need more information or assistance, feel free to ask!'}"
      ]
     },
     "execution_count": 16,
     "metadata": {},
     "output_type": "execute_result"
    }
   ],
   "source": [
    "agent_with_chat_history.invoke(\n",
    "    {\n",
    "        \"input\": \"Find the description of Neurons Lab services and calculate the length of this description\"\n",
    "    }, \n",
    "    config={\"configurable\": {\"session_id\": \"<foo>\"}},\n",
    ")"
   ]
  },
  {
   "cell_type": "code",
   "execution_count": 17,
   "metadata": {},
   "outputs": [
    {
     "name": "stdout",
     "output_type": "stream",
     "text": [
      "\n",
      "\n",
      "\u001b[1m> Entering new AgentExecutor chain...\u001b[0m\n",
      "\u001b[32;1m\u001b[1;3m\n",
      "Invoking: `neurons_lab_search` with `{'query': 'description of Neurons Lab services'}`\n",
      "\n",
      "\n",
      "\u001b[0m\u001b[36;1m\u001b[1;3mNeurons Lab | Home\n",
      "\n",
      "\n",
      "\n",
      "\n",
      "\n",
      "\n",
      "\n",
      "\n",
      "\n",
      "\n",
      "\n",
      "\n",
      "\n",
      "\n",
      "\n",
      "\n",
      "\n",
      "\n",
      "\n",
      "\n",
      "\n",
      "\n",
      "\n",
      "\n",
      "\n",
      "\n",
      " \n",
      "\n",
      "\n",
      "\n",
      "Your vision\n",
      "Our expertise\n",
      "Secret sauce*\n",
      "\n",
      "\n",
      "                            Recipe                            \n",
      "\n",
      "\n",
      "\n",
      "Partner with us\n",
      "\n",
      "\n",
      "                                for INNOVATION                                                    \n",
      "We are AI solution development experts for fast-growing companies seeking innovation through collaboration.\n",
      "\n",
      "\n",
      "\n",
      "\n",
      "\n",
      "\n",
      "\n",
      "\n",
      "\n",
      "\n",
      "\n",
      "\n",
      "\n",
      "\n",
      "\n",
      "\n",
      "\n",
      "\n",
      "\n",
      "\n",
      "\n",
      "\n",
      "HealthTech\n",
      "CleanTech\n",
      "RetailTech\n",
      "\n",
      "\n",
      "\n",
      "\n",
      "\n",
      "AWS Certified Advanced partner\n",
      "and Generative AI competency holder\n",
      "\n",
      "\n",
      "\n",
      "\n",
      "\n",
      "\n",
      "AI2 = Accelerators2 + \n",
      "Handbook2\n",
      "\n",
      "\n",
      "AI feasibility analysis\n",
      "Discover\n",
      "\n",
      "\n",
      "AI solution engineering\n",
      "Launch\n",
      "\n",
      "\n",
      "AI operations management\n",
      "Scale\n",
      "\n",
      "\n",
      "\n",
      "\n",
      "\n",
      "Success =(Execution x Talent) / \n",
      "(Uncertainty x Time)\n",
      "\n",
      "All  stories\n",
      "\n",
      "                                    1 — 6                                    \n",
      "\n",
      "\n",
      "\n",
      "\n",
      "\n",
      "\n",
      "\n",
      "\n",
      "\n",
      "\n",
      "\n",
      "Creative Practice Solutions : Developing an AI-Driven Medical Transcription & Billing System                                                \n",
      "\n",
      "\n",
      "HealthTech\n",
      "\n",
      "\n",
      "\n",
      "Explore story\n",
      "\n",
      "Privacy Notice\n",
      " Cookie Notice\n",
      "\n",
      "\n",
      "\n",
      "\n",
      "[email protected]\n",
      " +44 330 027 2146\n",
      "\n",
      "\n",
      "\n",
      "International House, 64 Nile Str,\n",
      "London, N1 7SR, United Kingdom\n",
      "\n",
      "\n",
      "\n",
      "\n",
      "\n",
      "\n",
      "\n",
      "\n",
      "\n",
      "\n",
      "\n",
      "© 2024 Neurons Lab LTD. Registered in England and Wales, \n",
      "Company Number 12265479\n",
      "Createdby twid\n",
      "\n",
      "Release & scale faster\n",
      "We make implementation ultra-fast by deploying and customizing pre-developed solutions in NLP, computer vision, time series, and Recommender systems.\n",
      "We also share our proprietary handbooks of best practices to help your team hit the ground running. Collaboration is the only way to effectively implement innovation.\n",
      "\n",
      "\n",
      "\n",
      "\n",
      "\n",
      "\n",
      "\n",
      "\n",
      "\n",
      "\n",
      "\n",
      "\n",
      "\n",
      "\n",
      "\n",
      "\n",
      "\n",
      "\n",
      "\n",
      "\n",
      "\n",
      "\n",
      "\n",
      "\n",
      "\n",
      "\n",
      "\n",
      "\n",
      "\n",
      "\n",
      "\n",
      "\n",
      "\n",
      "\n",
      "\n",
      "\n",
      "\n",
      "\n",
      "\n",
      "\n",
      "\n",
      "\n",
      "\n",
      "\n",
      "\n",
      "\n",
      "\n",
      "\n",
      "\n",
      "\n",
      "\n",
      "\n",
      "\n",
      "\n",
      "\n",
      "\n",
      "\n",
      "\n",
      "\n",
      "\n",
      "\n",
      "\n",
      "\n",
      "\n",
      " \n",
      "\n",
      "\n",
      "\n",
      "\n",
      "Work with experts\n",
      "Our expertise lies at the intersection of AI, advanced science, and business. Using a Talent Pool of over 500 highly skilled individuals, we quickly assemble teams of PhD-level applied scientists, recognized DS/ML/AI Engineers, and MLOps who specialize in developing solutions for your industry.\n",
      "\n",
      "Release & scale faster\n",
      "We make implementation ultra-fast by deploying and customizing pre-developed solutions in NLP, computer vision, time series, and Recommender systems.\n",
      "We also share our proprietary handbooks of best practices to help your team hit the ground running. Collaboration is the only way to effectively implement innovation.\n",
      "\n",
      "\n",
      "Work with experts\n",
      "Our expertise lies at the intersection of AI, advanced science, and business. Using a Talent Pool of over 500 highly skilled individuals, we quickly assemble teams of PhD-level applied scientists, recognized DS/ML/AI Engineers, and MLOps who specialize in developing solutions for your industry.\n",
      "\n",
      "\n",
      "Grow your business & attract clients \n",
      "Do you also seek development opportunities or funding? Thanks to our advanced-tier AWS partnership and access to a vast VC network, we can aid your company in obtaining grants and other assistance.\u001b[0m\u001b[32;1m\u001b[1;3m\n",
      "Invoking: `calculate_uppercase_tool` with `{'a': 'Neurons Lab | Home Your vision Our expertise Secret sauce* Recipe Partner with us for INNOVATION We are AI solution development experts for fast-growing companies seeking innovation through collaboration. HealthTech CleanTech RetailTech AWS Certified Advanced partner and Generative AI competency holder AI2 = Accelerators2 + Handbook2 AI feasibility analysis Discover AI solution engineering Launch AI operations management Scale Success =(Execution x Talent) / (Uncertainty x Time) All stories 1 — 6 Creative Practice Solutions : Developing an AI-Driven Medical Transcription & Billing System HealthTech Explore story Privacy Notice Cookie Notice [email protected] +44 330 027 2146 International House, 64 Nile Str, London, N1 7SR, United Kingdom © 2024 Neurons Lab LTD. Registered in England and Wales, Company Number 12265479 Createdby twid Release & scale faster We make implementation ultra-fast by deploying and customizing pre-developed solutions in NLP, computer vision, time series, and Recommender systems. We also share our proprietary handbooks of best practices to help your team hit the ground running. Collaboration is the only way to effectively implement innovation. Work with experts Our expertise lies at the intersection of AI, advanced science, and business. Using a Talent Pool of over 500 highly skilled individuals, we quickly assemble teams of PhD-level applied scientists, recognized DS/ML/AI Engineers, and MLOps who specialize in developing solutions for your industry. Release & scale faster We make implementation ultra-fast by deploying and customizing pre-developed solutions in NLP, computer vision, time series, and Recommender systems. We also share our proprietary handbooks of best practices to help your team hit the ground running. Collaboration is the only way to effectively implement innovation. Work with experts Our expertise lies at the intersection of AI, advanced science, and business. Using a Talent Pool of over 500 highly skilled individuals, we quickly assemble teams of PhD-level applied scientists, recognized DS/ML/AI Engineers, and MLOps who specialize in developing solutions for your industry. Grow your business & attract clients Do you also seek development opportunities or funding? Thanks to our advanced-tier AWS partnership and access to a vast VC network, we can aid your company in obtaining grants and other assistance.'}`\n",
      "\n",
      "\n",
      "\u001b[0m\u001b[36;1m\u001b[1;3m155\u001b[0m\u001b[32;1m\u001b[1;3mThe description of Neurons Lab services contains 155 uppercase characters. If you have any more questions or need further assistance, feel free to ask!\u001b[0m\n",
      "\n",
      "\u001b[1m> Finished chain.\u001b[0m\n"
     ]
    },
    {
     "data": {
      "text/plain": [
       "{'input': 'Find the description of Neurons Lab services and calculate the uppercase characters of this description',\n",
       " 'chat_history': [HumanMessage(content='Hello!'),\n",
       "  AIMessage(content='Hello! How can I assist you today?'),\n",
       "  HumanMessage(content='Find the description of Neurons Lab services and calculate the length of this description'),\n",
       "  AIMessage(content='The description of Neurons Lab services is 620 characters long. If you need more information or assistance, feel free to ask!')],\n",
       " 'output': 'The description of Neurons Lab services contains 155 uppercase characters. If you have any more questions or need further assistance, feel free to ask!'}"
      ]
     },
     "execution_count": 17,
     "metadata": {},
     "output_type": "execute_result"
    }
   ],
   "source": [
    "agent_with_chat_history.invoke(\n",
    "    {\n",
    "        \"input\": \"Find the description of Neurons Lab services and calculate the uppercase characters of this description\"\n",
    "    }, \n",
    "    config={\"configurable\": {\"session_id\": \"<foo>\"}},\n",
    ")"
   ]
  },
  {
   "cell_type": "code",
   "execution_count": 18,
   "metadata": {},
   "outputs": [
    {
     "name": "stdout",
     "output_type": "stream",
     "text": [
      "\n",
      "\n",
      "\u001b[1m> Entering new AgentExecutor chain...\u001b[0m\n",
      "\u001b[32;1m\u001b[1;3m\n",
      "Invoking: `tavily_search_results_json` with `{'query': 'weather today in Madrid'}`\n",
      "\n",
      "\n",
      "\u001b[0m\u001b[33;1m\u001b[1;3m[{'url': 'https://www.accuweather.com/en/es/madrid/308526/current-weather/308526', 'content': 'Current weather in Madrid, Madrid, Spain. Check current conditions in Madrid, Madrid, Spain with radar, hourly, and more.'}, {'url': 'https://www.timeanddate.com/weather/spain/madrid', 'content': 'Current weather in Madrid and forecast for today, tomorrow, and next 14 days'}, {'url': 'https://www.bbc.com/weather/3117735', 'content': 'Madrid - Weather warnings issued 14-day forecast. Weather warnings issued. Forecast - Madrid. Day by day forecast. Last updated today at 06:57. Today, Sunny and a gentle breeze.'}, {'url': 'https://www.accuweather.com/en/es/madrid/308526/weather-forecast/308526', 'content': 'Find out the current weather, temperature, wind, air quality and allergy outlook for Madrid, Spain. See the hourly and 10-day forecast for sunshine, clouds, showers and more.'}, {'url': 'https://www.accuweather.com/en/es/madrid/308526/weather-today/308526', 'content': \"Further Ahead\\nFurther Ahead\\nHourly\\nDaily\\nMonthly\\nAround the Globe\\nAround the Globe\\nHurricane Tracker\\nSevere Weather\\nRadar & Maps\\nNews\\nVideo\\nTop Stories\\nHealth\\nUS allergy forecast for 2024 calls for 3 peaks in pollen\\n21 hours ago\\nWinter Weather\\nClipper storm to unload snow in Minneapolis, Chicago and eye Northeast\\n3 hours ago\\nWeather News\\nFirst tornado forecast: Scientists who dared to forecast 'act of God'\\nWinter Weather\\nStorms to gather on US East Coast with rain, wind and snow upcoming\\n4 hours ago\\nWeather Forecasts\\nStorms packing rain, snow to return to California, northwest US\\n4 hours ago\\nFeatured Stories\\nRecreation\\nRare and majestic weather phenomenon only exists for minutes\\n1 day ago\\nTravel\\nUnited CEO tries to reassure customers following multiple safety incid...\\n2 days ago\\nClimate\\nGlobal ocean heat has hit a new record every single day for the last y...\\n2 days ago\\nTravel\\nGigantic aircraft design aims to create the largest plane ever to fly\\n18 hours ago\\nTravel\\nSurging gas prices just hit a significant milestone\\n2 days ago\\nWeather Near Madrid:\\nWe have updated our Privacy Policy and Cookie Policy.\\n Madrid, Madrid\\nMadrid\\nMadrid\\nAround the Globe\\nAround the Globe\\nHurricane Tracker\\nSevere Weather\\nRadar & Maps\\nNews & Features\\nAstronomy\\nBusiness\\nClimate\\nHealth\\nRecreation\\nSports\\nTravel\\nVideo\\nDay\\nMax UV Index5 Moderate\\nWindE 6 mph\\nWind Gusts18 mph\\nProbability of Precipitation40%\\nProbability of Thunderstorms10%\\nPrecipitation0.01 in\\nRain0.01 in\\nHours of Precipitation0.5\\nHours of Rain0.5\\nCloud Cover40%\\nMorning\\nAfternoon\\nNight\\nWindNE 8 mph\\nWind Gusts15 mph\\nProbability of Precipitation2%\\nProbability of Thunderstorms0%\\nPrecipitation0.00 in\\nCloud Cover52%\\nEvening\\nOvernight\\nSun & Moon\\nTemperature History\\n Get AccuWeather alerts as they happen with our browser notifications.\\n Notifications Enabled\\nThanks! We’ll keep you informed.\"}]\u001b[0m\u001b[32;1m\u001b[1;3m\n",
      "Invoking: `calculate_uppercase_tool` with `{'a': 'Today, Sunny and a gentle breeze.'}`\n",
      "\n",
      "\n",
      "\u001b[0m\u001b[36;1m\u001b[1;3m2\u001b[0m\u001b[32;1m\u001b[1;3mThe weather in Madrid today is described as \"Today, Sunny and a gentle breeze.\" This description contains 2 uppercase characters. If you have any more questions or need further assistance, feel free to ask!\u001b[0m\n",
      "\n",
      "\u001b[1m> Finished chain.\u001b[0m\n"
     ]
    },
    {
     "data": {
      "text/plain": [
       "{'input': 'What is the weather today in Madrid and calculate the uppercase characters of this description',\n",
       " 'chat_history': [HumanMessage(content='Hello!'),\n",
       "  AIMessage(content='Hello! How can I assist you today?'),\n",
       "  HumanMessage(content='Find the description of Neurons Lab services and calculate the length of this description'),\n",
       "  AIMessage(content='The description of Neurons Lab services is 620 characters long. If you need more information or assistance, feel free to ask!'),\n",
       "  HumanMessage(content='Find the description of Neurons Lab services and calculate the uppercase characters of this description'),\n",
       "  AIMessage(content='The description of Neurons Lab services contains 155 uppercase characters. If you have any more questions or need further assistance, feel free to ask!')],\n",
       " 'output': 'The weather in Madrid today is described as \"Today, Sunny and a gentle breeze.\" This description contains 2 uppercase characters. If you have any more questions or need further assistance, feel free to ask!'}"
      ]
     },
     "execution_count": 18,
     "metadata": {},
     "output_type": "execute_result"
    }
   ],
   "source": [
    "agent_with_chat_history.invoke(\n",
    "    {\n",
    "        \"input\": \"What is the weather today in Madrid and calculate the uppercase characters of this description\"\n",
    "    }, \n",
    "    config={\"configurable\": {\"session_id\": \"<foo>\"}},\n",
    ")"
   ]
  },
  {
   "cell_type": "code",
   "execution_count": 19,
   "metadata": {},
   "outputs": [
    {
     "name": "stdout",
     "output_type": "stream",
     "text": [
      "\n",
      "\n",
      "\u001b[1m> Entering new AgentExecutor chain...\u001b[0m\n",
      "\u001b[32;1m\u001b[1;3mToday, we discussed finding the description of Neurons Lab services and calculating the length and uppercase characters of the description. We also looked up the weather in Madrid and calculated the uppercase characters in the weather description. If you have any more questions or need further assistance, feel free to let me know!\u001b[0m\n",
      "\n",
      "\u001b[1m> Finished chain.\u001b[0m\n"
     ]
    },
    {
     "data": {
      "text/plain": [
       "{'input': 'Make a quick summary of what we have discussed today',\n",
       " 'chat_history': [HumanMessage(content='Hello!'),\n",
       "  AIMessage(content='Hello! How can I assist you today?'),\n",
       "  HumanMessage(content='Find the description of Neurons Lab services and calculate the length of this description'),\n",
       "  AIMessage(content='The description of Neurons Lab services is 620 characters long. If you need more information or assistance, feel free to ask!'),\n",
       "  HumanMessage(content='Find the description of Neurons Lab services and calculate the uppercase characters of this description'),\n",
       "  AIMessage(content='The description of Neurons Lab services contains 155 uppercase characters. If you have any more questions or need further assistance, feel free to ask!'),\n",
       "  HumanMessage(content='What is the weather today in Madrid and calculate the uppercase characters of this description'),\n",
       "  AIMessage(content='The weather in Madrid today is described as \"Today, Sunny and a gentle breeze.\" This description contains 2 uppercase characters. If you have any more questions or need further assistance, feel free to ask!')],\n",
       " 'output': 'Today, we discussed finding the description of Neurons Lab services and calculating the length and uppercase characters of the description. We also looked up the weather in Madrid and calculated the uppercase characters in the weather description. If you have any more questions or need further assistance, feel free to let me know!'}"
      ]
     },
     "execution_count": 19,
     "metadata": {},
     "output_type": "execute_result"
    }
   ],
   "source": [
    "agent_with_chat_history.invoke(\n",
    "    {\n",
    "        \"input\": \"Make a quick summary of what we have discussed today\"\n",
    "    }, \n",
    "    config={\"configurable\": {\"session_id\": \"<foo>\"}},\n",
    ")"
   ]
  },
  {
   "cell_type": "markdown",
   "metadata": {},
   "source": [
    "### Structuring outputs"
   ]
  },
  {
   "cell_type": "code",
   "execution_count": 20,
   "metadata": {},
   "outputs": [],
   "source": [
    "from langchain.output_parsers import PydanticOutputParser\n",
    "from langchain_core.pydantic_v1 import BaseModel, Field, validator"
   ]
  },
  {
   "cell_type": "code",
   "execution_count": 21,
   "metadata": {},
   "outputs": [],
   "source": [
    "# Define your desired data structure.\n",
    "class DesiredStructure(BaseModel):\n",
    "    question: str = Field(description=\"the question asked\")\n",
    "    numerical_answer: int = Field(description=\"the number extracted from the answer, text excluded\")\n",
    "    text_answer: str = Field(description=\"the text part of the answer, numbers excluded\")\n",
    "parser = PydanticOutputParser(pydantic_object=DesiredStructure)"
   ]
  },
  {
   "cell_type": "code",
   "execution_count": 22,
   "metadata": {},
   "outputs": [],
   "source": [
    "model = ChatOpenAI(model_name=\"gpt-3.5-turbo\", temperature=0.0)\n",
    "prompt = PromptTemplate(\n",
    "    template=\"Answer the user query.\\n{format_instructions}\\n{query}\\n\",\n",
    "    input_variables=[\"query\"],\n",
    "    partial_variables={\"format_instructions\": parser.get_format_instructions()},\n",
    ")\n",
    "prompt_and_model = prompt | model\n",
    "output = prompt_and_model.invoke({\n",
    "    \"query\": \"Find the description of Neurons Lab services and calculate the length of this description\"}\n",
    ")"
   ]
  },
  {
   "cell_type": "code",
   "execution_count": 23,
   "metadata": {},
   "outputs": [
    {
     "data": {
      "text/plain": [
       "AIMessage(content='{\\n  \"question\": \"Find the description of Neurons Lab services and calculate the length of this description\",\\n  \"numerical_answer\": 63,\\n  \"text_answer\": \"Neurons Lab services provide advanced solutions in artificial intelligence, machine learning, and data analytics.\"\\n}', response_metadata={'token_usage': {'completion_tokens': 56, 'prompt_tokens': 253, 'total_tokens': 309}, 'model_name': 'gpt-3.5-turbo', 'system_fingerprint': 'fp_3bc1b5746c', 'finish_reason': 'stop', 'logprobs': None})"
      ]
     },
     "execution_count": 23,
     "metadata": {},
     "output_type": "execute_result"
    }
   ],
   "source": [
    "output"
   ]
  },
  {
   "cell_type": "markdown",
   "metadata": {},
   "source": [
    "Next stes: evaluation and benchmarks https://python.langchain.com/docs/langsmith/walkthrough"
   ]
  }
 ],
 "metadata": {
  "kernelspec": {
   "display_name": ".venv",
   "language": "python",
   "name": "python3"
  },
  "language_info": {
   "codemirror_mode": {
    "name": "ipython",
    "version": 3
   },
   "file_extension": ".py",
   "mimetype": "text/x-python",
   "name": "python",
   "nbconvert_exporter": "python",
   "pygments_lexer": "ipython3",
   "version": "3.11.7"
  }
 },
 "nbformat": 4,
 "nbformat_minor": 2
}
